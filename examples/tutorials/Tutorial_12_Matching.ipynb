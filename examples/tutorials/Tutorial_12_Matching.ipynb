{
  "cells": [
    {
      "cell_type": "markdown",
      "metadata": {
        "id": "MZu1L7QuX5dX"
      },
      "source": [
        "# How to match?"
      ]
    },
    {
      "cell_type": "markdown",
      "metadata": {
        "id": "ftdHd26zX5eF"
      },
      "source": [
        "## 0. Import libraries"
      ]
    },
    {
      "cell_type": "code",
      "execution_count": null,
      "metadata": {
        "id": "7mxxPFVWX5eH",
        "outputId": "d1f3cd77-6022-4e2f-96e2-26b30666c837"
      },
      "outputs": [
        {
          "name": "stdout",
          "output_type": "stream",
          "text": [
            "'nlp' extra dependecy package 'gensim' isn't installed. Look at README.md in repo 'LightAutoML' for installation instructions.\n",
            "'nlp' extra dependecy package 'nltk' isn't installed. Look at README.md in repo 'LightAutoML' for installation instructions.\n",
            "'nlp' extra dependecy package 'transformers' isn't installed. Look at README.md in repo 'LightAutoML' for installation instructions.\n",
            "'nlp' extra dependecy package 'gensim' isn't installed. Look at README.md in repo 'LightAutoML' for installation instructions.\n",
            "'nlp' extra dependecy package 'nltk' isn't installed. Look at README.md in repo 'LightAutoML' for installation instructions.\n",
            "'nlp' extra dependecy package 'transformers' isn't installed. Look at README.md in repo 'LightAutoML' for installation instructions.\n"
          ]
        },
        {
          "name": "stderr",
          "output_type": "stream",
          "text": [
            "/Users/20224761/PycharmProjects/matcher/lightautoml/ml_algo/dl_model.py:41: UserWarning: 'transformers' - package isn't installed\n",
            "  warnings.warn(\"'transformers' - package isn't installed\")\n",
            "/Users/20224761/PycharmProjects/matcher/lightautoml/text/nn_model.py:22: UserWarning: 'transformers' - package isn't installed\n",
            "  warnings.warn(\"'transformers' - package isn't installed\")\n",
            "/Users/20224761/PycharmProjects/matcher/lightautoml/text/dl_transformers.py:25: UserWarning: 'transformers' - package isn't installed\n",
            "  warnings.warn(\"'transformers' - package isn't installed\")\n"
          ]
        }
      ],
      "source": [
        "import pandas as pd\n",
        "import warnings\n",
        "import numpy as np\n",
        "from lightautoml.addons.hypex import Matcher\n",
        "\n",
        "warnings.filterwarnings('ignore')\n",
        "%config Completer.use_jedi = False"
      ]
    },
    {
      "cell_type": "markdown",
      "metadata": {
        "id": "Zid7P0zwX5eP"
      },
      "source": [
        "## 1. Create or upload your dataset  \n",
        "In this case we will create random dataset with known effect size  \n",
        "If you have your own dataset, go to the part 2\n"
      ]
    },
    {
      "cell_type": "code",
      "execution_count": null,
      "metadata": {
        "id": "xURO5i6tX5eR",
        "outputId": "3757ce71-a73a-44d7-9efb-6df4dcd211cd"
      },
      "outputs": [
        {
          "data": {
            "text/plain": "   user_id  signup_month  month  spend  treat\n0        0             0      1    496  False\n1        0             0      2    488  False\n2        0             0      3    487  False\n3        0             0      4    457  False\n4        0             0      5    431  False",
            "text/html": "<div>\n<style scoped>\n    .dataframe tbody tr th:only-of-type {\n        vertical-align: middle;\n    }\n\n    .dataframe tbody tr th {\n        vertical-align: top;\n    }\n\n    .dataframe thead th {\n        text-align: right;\n    }\n</style>\n<table border=\"1\" class=\"dataframe\">\n  <thead>\n    <tr style=\"text-align: right;\">\n      <th></th>\n      <th>user_id</th>\n      <th>signup_month</th>\n      <th>month</th>\n      <th>spend</th>\n      <th>treat</th>\n    </tr>\n  </thead>\n  <tbody>\n    <tr>\n      <th>0</th>\n      <td>0</td>\n      <td>0</td>\n      <td>1</td>\n      <td>496</td>\n      <td>False</td>\n    </tr>\n    <tr>\n      <th>1</th>\n      <td>0</td>\n      <td>0</td>\n      <td>2</td>\n      <td>488</td>\n      <td>False</td>\n    </tr>\n    <tr>\n      <th>2</th>\n      <td>0</td>\n      <td>0</td>\n      <td>3</td>\n      <td>487</td>\n      <td>False</td>\n    </tr>\n    <tr>\n      <th>3</th>\n      <td>0</td>\n      <td>0</td>\n      <td>4</td>\n      <td>457</td>\n      <td>False</td>\n    </tr>\n    <tr>\n      <th>4</th>\n      <td>0</td>\n      <td>0</td>\n      <td>5</td>\n      <td>431</td>\n      <td>False</td>\n    </tr>\n  </tbody>\n</table>\n</div>"
          },
          "execution_count": 2,
          "metadata": {},
          "output_type": "execute_result"
        }
      ],
      "source": [
        "# Simulating dataset with known effect size\n",
        "num_users = 10000\n",
        "num_months = 12\n",
        "\n",
        "signup_months = np.random.choice(np.arange(1, num_months), num_users) * np.random.randint(0,2, size=num_users) # signup_months == 0 means customer did not sign up\n",
        "df = pd.DataFrame({\n",
        "    'user_id': np.repeat(np.arange(num_users), num_months),\n",
        "    'signup_month': np.repeat(signup_months, num_months), # signup month == 0 means customer did not sign up\n",
        "    'month': np.tile(np.arange(1, num_months+1), num_users), # months are from 1 to 12\n",
        "    'spend': np.random.poisson(500, num_users*num_months) #np.random.beta(a=2, b=5, size=num_users * num_months)*1000 # centered at 500\n",
        "})\n",
        "# A customer is in the treatment group if and only if they signed up\n",
        "df[\"treat\"] = df[\"signup_month\"]>0\n",
        "# Simulating an effect of month (monotonically decreasing--customers buy less later in the year)\n",
        "df[\"spend\"] = df[\"spend\"] - df[\"month\"]*10\n",
        "# Simulating a simple treatment effect of 100\n",
        "after_signup = (df[\"signup_month\"] < df[\"month\"]) & (df[\"treat\"])\n",
        "df.loc[after_signup,\"spend\"] = df[after_signup][\"spend\"] + 100\n",
        "df.head()"
      ]
    },
    {
      "cell_type": "code",
      "execution_count": null,
      "metadata": {
        "id": "ueKLnbSzX5eT",
        "outputId": "ed9e97df-117a-4c5c-8210-c4efe4a36394"
      },
      "outputs": [
        {
          "data": {
            "text/plain": "      user_id  signup_month  treat  pre_spends  post_spends\n0           0             0  False       492.0   416.444444\n1           2             0  False       500.5   412.111111\n2           4             0  False       480.0   419.888889\n3           6             0  False       488.5   433.111111\n4           7             0  False       467.0   425.777778\n...       ...           ...    ...         ...          ...\n5409     9995             0  False       457.0   407.222222\n5410     9996             0  False       477.5   443.333333\n5411     9997             0  False       483.5   416.000000\n5412     9998             0  False       505.5   424.000000\n5413     9999             0  False       504.5   402.777778\n\n[5414 rows x 5 columns]",
            "text/html": "<div>\n<style scoped>\n    .dataframe tbody tr th:only-of-type {\n        vertical-align: middle;\n    }\n\n    .dataframe tbody tr th {\n        vertical-align: top;\n    }\n\n    .dataframe thead th {\n        text-align: right;\n    }\n</style>\n<table border=\"1\" class=\"dataframe\">\n  <thead>\n    <tr style=\"text-align: right;\">\n      <th></th>\n      <th>user_id</th>\n      <th>signup_month</th>\n      <th>treat</th>\n      <th>pre_spends</th>\n      <th>post_spends</th>\n    </tr>\n  </thead>\n  <tbody>\n    <tr>\n      <th>0</th>\n      <td>0</td>\n      <td>0</td>\n      <td>False</td>\n      <td>492.0</td>\n      <td>416.444444</td>\n    </tr>\n    <tr>\n      <th>1</th>\n      <td>2</td>\n      <td>0</td>\n      <td>False</td>\n      <td>500.5</td>\n      <td>412.111111</td>\n    </tr>\n    <tr>\n      <th>2</th>\n      <td>4</td>\n      <td>0</td>\n      <td>False</td>\n      <td>480.0</td>\n      <td>419.888889</td>\n    </tr>\n    <tr>\n      <th>3</th>\n      <td>6</td>\n      <td>0</td>\n      <td>False</td>\n      <td>488.5</td>\n      <td>433.111111</td>\n    </tr>\n    <tr>\n      <th>4</th>\n      <td>7</td>\n      <td>0</td>\n      <td>False</td>\n      <td>467.0</td>\n      <td>425.777778</td>\n    </tr>\n    <tr>\n      <th>...</th>\n      <td>...</td>\n      <td>...</td>\n      <td>...</td>\n      <td>...</td>\n      <td>...</td>\n    </tr>\n    <tr>\n      <th>5409</th>\n      <td>9995</td>\n      <td>0</td>\n      <td>False</td>\n      <td>457.0</td>\n      <td>407.222222</td>\n    </tr>\n    <tr>\n      <th>5410</th>\n      <td>9996</td>\n      <td>0</td>\n      <td>False</td>\n      <td>477.5</td>\n      <td>443.333333</td>\n    </tr>\n    <tr>\n      <th>5411</th>\n      <td>9997</td>\n      <td>0</td>\n      <td>False</td>\n      <td>483.5</td>\n      <td>416.000000</td>\n    </tr>\n    <tr>\n      <th>5412</th>\n      <td>9998</td>\n      <td>0</td>\n      <td>False</td>\n      <td>505.5</td>\n      <td>424.000000</td>\n    </tr>\n    <tr>\n      <th>5413</th>\n      <td>9999</td>\n      <td>0</td>\n      <td>False</td>\n      <td>504.5</td>\n      <td>402.777778</td>\n    </tr>\n  </tbody>\n</table>\n<p>5414 rows × 5 columns</p>\n</div>"
          },
          "execution_count": 3,
          "metadata": {},
          "output_type": "execute_result"
        }
      ],
      "source": [
        "# Setting the signup month (for ease of analysis)\n",
        "i = 3\n",
        "df_i_signupmonth = (\n",
        "    df[df.signup_month.isin([0, i])]\n",
        "    .groupby([\"user_id\", \"signup_month\", \"treat\"])\n",
        "    .apply(\n",
        "        lambda x: pd.Series(\n",
        "            {\n",
        "                \"pre_spends\": x.loc[x.month < i, \"spend\"].mean(),\n",
        "                \"post_spends\": x.loc[x.month > i, \"spend\"].mean(),\n",
        "            }\n",
        "        )\n",
        "    )\n",
        "    .reset_index()\n",
        ")\n",
        "df_i_signupmonth"
      ]
    },
    {
      "cell_type": "code",
      "execution_count": null,
      "metadata": {
        "id": "Q_IGPTmGX5eV",
        "outputId": "f85c3ede-7eb8-4192-9a91-ff18348bc319"
      },
      "outputs": [
        {
          "data": {
            "text/plain": "   user_id  signup_month  treat  pre_spends  post_spends  age  is_male  \\\n0        0             0      0       492.0   416.444444   21        1   \n1        2             0      0       500.5   412.111111   65        0   \n2        4             0      0       480.0   419.888889   63        1   \n3        6             0      0       488.5   433.111111   51        1   \n4        7             0      0       467.0   425.777778   64        1   \n\n  industry  \n0        2  \n1        1  \n2        1  \n3        2  \n4        2  ",
            "text/html": "<div>\n<style scoped>\n    .dataframe tbody tr th:only-of-type {\n        vertical-align: middle;\n    }\n\n    .dataframe tbody tr th {\n        vertical-align: top;\n    }\n\n    .dataframe thead th {\n        text-align: right;\n    }\n</style>\n<table border=\"1\" class=\"dataframe\">\n  <thead>\n    <tr style=\"text-align: right;\">\n      <th></th>\n      <th>user_id</th>\n      <th>signup_month</th>\n      <th>treat</th>\n      <th>pre_spends</th>\n      <th>post_spends</th>\n      <th>age</th>\n      <th>is_male</th>\n      <th>industry</th>\n    </tr>\n  </thead>\n  <tbody>\n    <tr>\n      <th>0</th>\n      <td>0</td>\n      <td>0</td>\n      <td>0</td>\n      <td>492.0</td>\n      <td>416.444444</td>\n      <td>21</td>\n      <td>1</td>\n      <td>2</td>\n    </tr>\n    <tr>\n      <th>1</th>\n      <td>2</td>\n      <td>0</td>\n      <td>0</td>\n      <td>500.5</td>\n      <td>412.111111</td>\n      <td>65</td>\n      <td>0</td>\n      <td>1</td>\n    </tr>\n    <tr>\n      <th>2</th>\n      <td>4</td>\n      <td>0</td>\n      <td>0</td>\n      <td>480.0</td>\n      <td>419.888889</td>\n      <td>63</td>\n      <td>1</td>\n      <td>1</td>\n    </tr>\n    <tr>\n      <th>3</th>\n      <td>6</td>\n      <td>0</td>\n      <td>0</td>\n      <td>488.5</td>\n      <td>433.111111</td>\n      <td>51</td>\n      <td>1</td>\n      <td>2</td>\n    </tr>\n    <tr>\n      <th>4</th>\n      <td>7</td>\n      <td>0</td>\n      <td>0</td>\n      <td>467.0</td>\n      <td>425.777778</td>\n      <td>64</td>\n      <td>1</td>\n      <td>2</td>\n    </tr>\n  </tbody>\n</table>\n</div>"
          },
          "execution_count": 4,
          "metadata": {},
          "output_type": "execute_result"
        }
      ],
      "source": [
        "# Additional category features\n",
        "gender = np.random.choice(a=[0,1], size=df_i_signupmonth.user_id.nunique())\n",
        "age = np.random.choice(a=range(18, 70), size=df_i_signupmonth.user_id.nunique())\n",
        "industry = np.random.choice(a=range(1, 3), size=df_i_signupmonth.user_id.nunique())\n",
        "df_i_signupmonth['age'] = age\n",
        "df_i_signupmonth['is_male'] =  gender\n",
        "df_i_signupmonth['industry'] =  industry\n",
        "df_i_signupmonth['industry'] = df_i_signupmonth['industry'].astype('str')\n",
        "df_i_signupmonth['treat'] = df_i_signupmonth['treat'].astype(int)\n",
        "df_i_signupmonth.head()"
      ]
    },
    {
      "cell_type": "code",
      "execution_count": null,
      "metadata": {
        "id": "f5k9AqdHX5eZ",
        "outputId": "079421ae-de9c-4bea-bcca-61f9a3c23676"
      },
      "outputs": [
        {
          "data": {
            "text/plain": "Index(['user_id', 'signup_month', 'treat', 'pre_spends', 'post_spends', 'age',\n       'is_male', 'industry'],\n      dtype='object')"
          },
          "execution_count": 5,
          "metadata": {},
          "output_type": "execute_result"
        }
      ],
      "source": [
        "df_i_signupmonth.columns"
      ]
    },
    {
      "cell_type": "markdown",
      "metadata": {
        "id": "gOrGii0YX5ec"
      },
      "source": [
        "## 2. Matching  \n",
        "### 2.0 Init params\n",
        "info_col used to define informative attributes that should not be part of matching, such as user_id  \n",
        "But to explicitly store this column in the table, so that you can compare directly after computation"
      ]
    },
    {
      "cell_type": "code",
      "execution_count": null,
      "metadata": {
        "id": "8fkrXAuXX5ef"
      },
      "outputs": [],
      "source": [
        "info_col = ['user_id', 'signup_month']\n",
        "\n",
        "outcome = 'post_spends'\n",
        "treatment = 'treat'"
      ]
    },
    {
      "cell_type": "markdown",
      "metadata": {
        "id": "0lGqHy62X5ei"
      },
      "source": [
        "### 2.1 Simple matching\n",
        "This is the easiest way to initialize and calculate metrics on a Matching task  \n",
        "Use it when you are clear about each attribute or if you don't have any additional task conditions (Strict equality for certain features)"
      ]
    },
    {
      "cell_type": "code",
      "execution_count": null,
      "metadata": {
        "id": "3ntKmdmqX5ek",
        "outputId": "907321ee-530b-42b3-b988-d7da9f31fe6a",
        "colab": {
          "referenced_widgets": [
            "93364870729e45538fb5daa42cb029ba"
          ]
        }
      },
      "outputs": [
        {
          "data": {
            "text/plain": "  0%|          | 0/5414 [00:00<?, ?it/s]",
            "application/vnd.jupyter.widget-view+json": {
              "version_major": 2,
              "version_minor": 0,
              "model_id": "93364870729e45538fb5daa42cb029ba"
            }
          },
          "metadata": {},
          "output_type": "display_data"
        }
      ],
      "source": [
        "# Standard model with base parameters\n",
        "model = Matcher(input_data=df_i_signupmonth, outcome=outcome, treatment=treatment, info_col=info_col)\n",
        "results, quality_results, df_matched = model.estimate()"
      ]
    },
    {
      "cell_type": "code",
      "execution_count": null,
      "outputs": [],
      "source": [],
      "metadata": {
        "id": "pUMGONEUX5el"
      }
    },
    {
      "cell_type": "markdown",
      "metadata": {
        "id": "A55f1MKwX5en"
      },
      "source": [
        "### 2.2 Matching with a fixed variable  \n",
        "Used when you have categorical feature(s) that you want to compare by strict equality  \n",
        "group_col is used for strict comparison of categorical features.  \n",
        "In our case there is only one attribute  \n",
        "If there are several such attributes, you should make one of them and use it"
      ]
    },
    {
      "cell_type": "code",
      "execution_count": null,
      "metadata": {
        "id": "5ORBJE36X5en"
      },
      "outputs": [],
      "source": [
        "# group_col is used for strict comparison of categorical features.\n",
        "# In our case there is only one attribute\n",
        "# If there are several such attributes, you should make one of them and use it\n",
        "\n",
        "group_col = \"industry\""
      ]
    },
    {
      "cell_type": "code",
      "execution_count": null,
      "metadata": {
        "id": "v7ns3pDlX5eo",
        "outputId": "5df3083e-b42a-42c0-893f-814b18a0134b",
        "colab": {
          "referenced_widgets": [
            "0e124e2cdef34314bdcb53d918e7257e"
          ]
        }
      },
      "outputs": [
        {
          "data": {
            "text/plain": "  0%|          | 0/4 [00:00<?, ?it/s]",
            "application/vnd.jupyter.widget-view+json": {
              "version_major": 2,
              "version_minor": 0,
              "model_id": "0e124e2cdef34314bdcb53d918e7257e"
            }
          },
          "metadata": {},
          "output_type": "display_data"
        }
      ],
      "source": [
        "model = Matcher(input_data=df_i_signupmonth, outcome=outcome, treatment=treatment,\n",
        "                info_col=info_col, group_col=group_col)\n",
        "results, quality_results, df_matched = model.estimate()"
      ]
    },
    {
      "cell_type": "markdown",
      "metadata": {
        "id": "kxujrVGrX5ep"
      },
      "source": [
        "### 2.3 Matching but you don't know which features are better to use  \n",
        "This is the easiest way to initialize and calculate metrics on a Matching task  \n",
        "Use this method when you want to select the most important features and make matching based on them."
      ]
    },
    {
      "cell_type": "code",
      "execution_count": null,
      "metadata": {
        "id": "6kVlIPEjX5eq"
      },
      "outputs": [],
      "source": [
        "model = Matcher(input_data=df_i_signupmonth, outcome=outcome, treatment=treatment,\n",
        "                info_col=info_col, group_col=group_col)"
      ]
    },
    {
      "cell_type": "code",
      "execution_count": null,
      "metadata": {
        "scrolled": true,
        "id": "IYN0euE7X5er",
        "outputId": "651f83dd-15ac-47dc-b6bf-0a3420120a9c"
      },
      "outputs": [
        {
          "data": {
            "text/plain": "      Feature    Importance\n0  pre_spends  38600.570068\n3    industry  38600.570068\n1         age  29652.719604\n2     is_male   2970.189941",
            "text/html": "<div>\n<style scoped>\n    .dataframe tbody tr th:only-of-type {\n        vertical-align: middle;\n    }\n\n    .dataframe tbody tr th {\n        vertical-align: top;\n    }\n\n    .dataframe thead th {\n        text-align: right;\n    }\n</style>\n<table border=\"1\" class=\"dataframe\">\n  <thead>\n    <tr style=\"text-align: right;\">\n      <th></th>\n      <th>Feature</th>\n      <th>Importance</th>\n    </tr>\n  </thead>\n  <tbody>\n    <tr>\n      <th>0</th>\n      <td>pre_spends</td>\n      <td>38600.570068</td>\n    </tr>\n    <tr>\n      <th>3</th>\n      <td>industry</td>\n      <td>38600.570068</td>\n    </tr>\n    <tr>\n      <th>1</th>\n      <td>age</td>\n      <td>29652.719604</td>\n    </tr>\n    <tr>\n      <th>2</th>\n      <td>is_male</td>\n      <td>2970.189941</td>\n    </tr>\n  </tbody>\n</table>\n</div>"
          },
          "execution_count": 11,
          "metadata": {},
          "output_type": "execute_result"
        }
      ],
      "source": [
        "features_importance = model.lama_feature_select()\n",
        "features_importance"
      ]
    },
    {
      "cell_type": "code",
      "execution_count": null,
      "metadata": {
        "id": "7K6m_GxGX5es"
      },
      "outputs": [],
      "source": [
        "features = features_importance['Feature'].to_list()"
      ]
    },
    {
      "cell_type": "code",
      "execution_count": null,
      "metadata": {
        "id": "uLm5mNDtX5es",
        "outputId": "4d5b4b86-c57c-4f48-dea9-d307f81248c5",
        "colab": {
          "referenced_widgets": [
            "a7c9cf58da6f4c9d8ed44879ad142e1f"
          ]
        }
      },
      "outputs": [
        {
          "data": {
            "text/plain": "  0%|          | 0/4 [00:00<?, ?it/s]",
            "application/vnd.jupyter.widget-view+json": {
              "version_major": 2,
              "version_minor": 0,
              "model_id": "a7c9cf58da6f4c9d8ed44879ad142e1f"
            }
          },
          "metadata": {},
          "output_type": "display_data"
        }
      ],
      "source": [
        "# You can use both variant that you like. So you can just list the features to be matched\n",
        "\n",
        "#results, quality_results = model.estimate(features=features_importance[:3])\n",
        "results, quality_results, df_matched = model.estimate(features=features[:3])"
      ]
    },
    {
      "cell_type": "code",
      "execution_count": null,
      "metadata": {
        "id": "Vjo4iL9PX5et",
        "outputId": "a5b6f295-a35c-415b-faf9-5ee3439f8621"
      },
      "outputs": [
        {
          "data": {
            "text/plain": "      index  pre_spends  age  is_male industry  pre_spends_matched  \\\n0      4985       472.0   48        0        1               471.5   \n1      4986       494.0   38        0        1               493.5   \n2      4987       492.5   41        0        1               493.0   \n3      4988       479.0   59        1        1               478.0   \n4      4989       490.5   52        0        1               490.0   \n...     ...         ...  ...      ...      ...                 ...   \n4980   4980       502.5   45        0        2               501.5   \n4981   4981       477.5   49        1        2               478.0   \n4982   4982       488.0   69        1        2               488.5   \n4983   4983       505.5   40        1        2               503.0   \n4984   4984       504.5   26        1        2               504.5   \n\n      age_matched  is_male_matched index_matched industry_matched  \\\n0            48.0              0.0        [1864]                1   \n1            38.0              0.0        [1784]                1   \n2            41.0              0.0         [927]                1   \n3            59.0              0.0        [1128]                1   \n4            52.0              0.0        [2196]                1   \n...           ...              ...           ...              ...   \n4980         42.0              1.0         [310]                2   \n4981         48.0              1.0         [244]                2   \n4982         69.0              0.0         [233]                2   \n4983         39.0              1.0         [376]                2   \n4984         28.0              0.0         [347]                2   \n\n      post_spends  post_spends_matched  post_spends_matched_bias  treat  \\\n0      522.444444           421.888889                100.549753      1   \n1      515.444444           423.222222                 92.216419      1   \n2      529.666667           424.111111                105.561359      1   \n3      513.333333           417.777778                 95.543950      1   \n4      515.555556           413.333333                102.216419      1   \n...           ...                  ...                       ...    ...   \n4980   420.333333           523.666667                103.206430      0   \n4981   421.555556           521.222222                 99.642777      0   \n4982   403.222222           519.555556                116.344380      0   \n4983   424.000000           533.222222                109.132051      0   \n4984   402.777778           504.444444                101.736540      0   \n\n      treat_matched  \n0                 0  \n1                 0  \n2                 0  \n3                 0  \n4                 0  \n...             ...  \n4980              1  \n4981              1  \n4982              1  \n4983              1  \n4984              1  \n\n[5414 rows x 15 columns]",
            "text/html": "<div>\n<style scoped>\n    .dataframe tbody tr th:only-of-type {\n        vertical-align: middle;\n    }\n\n    .dataframe tbody tr th {\n        vertical-align: top;\n    }\n\n    .dataframe thead th {\n        text-align: right;\n    }\n</style>\n<table border=\"1\" class=\"dataframe\">\n  <thead>\n    <tr style=\"text-align: right;\">\n      <th></th>\n      <th>index</th>\n      <th>pre_spends</th>\n      <th>age</th>\n      <th>is_male</th>\n      <th>industry</th>\n      <th>pre_spends_matched</th>\n      <th>age_matched</th>\n      <th>is_male_matched</th>\n      <th>index_matched</th>\n      <th>industry_matched</th>\n      <th>post_spends</th>\n      <th>post_spends_matched</th>\n      <th>post_spends_matched_bias</th>\n      <th>treat</th>\n      <th>treat_matched</th>\n    </tr>\n  </thead>\n  <tbody>\n    <tr>\n      <th>0</th>\n      <td>4985</td>\n      <td>472.0</td>\n      <td>48</td>\n      <td>0</td>\n      <td>1</td>\n      <td>471.5</td>\n      <td>48.0</td>\n      <td>0.0</td>\n      <td>[1864]</td>\n      <td>1</td>\n      <td>522.444444</td>\n      <td>421.888889</td>\n      <td>100.549753</td>\n      <td>1</td>\n      <td>0</td>\n    </tr>\n    <tr>\n      <th>1</th>\n      <td>4986</td>\n      <td>494.0</td>\n      <td>38</td>\n      <td>0</td>\n      <td>1</td>\n      <td>493.5</td>\n      <td>38.0</td>\n      <td>0.0</td>\n      <td>[1784]</td>\n      <td>1</td>\n      <td>515.444444</td>\n      <td>423.222222</td>\n      <td>92.216419</td>\n      <td>1</td>\n      <td>0</td>\n    </tr>\n    <tr>\n      <th>2</th>\n      <td>4987</td>\n      <td>492.5</td>\n      <td>41</td>\n      <td>0</td>\n      <td>1</td>\n      <td>493.0</td>\n      <td>41.0</td>\n      <td>0.0</td>\n      <td>[927]</td>\n      <td>1</td>\n      <td>529.666667</td>\n      <td>424.111111</td>\n      <td>105.561359</td>\n      <td>1</td>\n      <td>0</td>\n    </tr>\n    <tr>\n      <th>3</th>\n      <td>4988</td>\n      <td>479.0</td>\n      <td>59</td>\n      <td>1</td>\n      <td>1</td>\n      <td>478.0</td>\n      <td>59.0</td>\n      <td>0.0</td>\n      <td>[1128]</td>\n      <td>1</td>\n      <td>513.333333</td>\n      <td>417.777778</td>\n      <td>95.543950</td>\n      <td>1</td>\n      <td>0</td>\n    </tr>\n    <tr>\n      <th>4</th>\n      <td>4989</td>\n      <td>490.5</td>\n      <td>52</td>\n      <td>0</td>\n      <td>1</td>\n      <td>490.0</td>\n      <td>52.0</td>\n      <td>0.0</td>\n      <td>[2196]</td>\n      <td>1</td>\n      <td>515.555556</td>\n      <td>413.333333</td>\n      <td>102.216419</td>\n      <td>1</td>\n      <td>0</td>\n    </tr>\n    <tr>\n      <th>...</th>\n      <td>...</td>\n      <td>...</td>\n      <td>...</td>\n      <td>...</td>\n      <td>...</td>\n      <td>...</td>\n      <td>...</td>\n      <td>...</td>\n      <td>...</td>\n      <td>...</td>\n      <td>...</td>\n      <td>...</td>\n      <td>...</td>\n      <td>...</td>\n      <td>...</td>\n    </tr>\n    <tr>\n      <th>4980</th>\n      <td>4980</td>\n      <td>502.5</td>\n      <td>45</td>\n      <td>0</td>\n      <td>2</td>\n      <td>501.5</td>\n      <td>42.0</td>\n      <td>1.0</td>\n      <td>[310]</td>\n      <td>2</td>\n      <td>420.333333</td>\n      <td>523.666667</td>\n      <td>103.206430</td>\n      <td>0</td>\n      <td>1</td>\n    </tr>\n    <tr>\n      <th>4981</th>\n      <td>4981</td>\n      <td>477.5</td>\n      <td>49</td>\n      <td>1</td>\n      <td>2</td>\n      <td>478.0</td>\n      <td>48.0</td>\n      <td>1.0</td>\n      <td>[244]</td>\n      <td>2</td>\n      <td>421.555556</td>\n      <td>521.222222</td>\n      <td>99.642777</td>\n      <td>0</td>\n      <td>1</td>\n    </tr>\n    <tr>\n      <th>4982</th>\n      <td>4982</td>\n      <td>488.0</td>\n      <td>69</td>\n      <td>1</td>\n      <td>2</td>\n      <td>488.5</td>\n      <td>69.0</td>\n      <td>0.0</td>\n      <td>[233]</td>\n      <td>2</td>\n      <td>403.222222</td>\n      <td>519.555556</td>\n      <td>116.344380</td>\n      <td>0</td>\n      <td>1</td>\n    </tr>\n    <tr>\n      <th>4983</th>\n      <td>4983</td>\n      <td>505.5</td>\n      <td>40</td>\n      <td>1</td>\n      <td>2</td>\n      <td>503.0</td>\n      <td>39.0</td>\n      <td>1.0</td>\n      <td>[376]</td>\n      <td>2</td>\n      <td>424.000000</td>\n      <td>533.222222</td>\n      <td>109.132051</td>\n      <td>0</td>\n      <td>1</td>\n    </tr>\n    <tr>\n      <th>4984</th>\n      <td>4984</td>\n      <td>504.5</td>\n      <td>26</td>\n      <td>1</td>\n      <td>2</td>\n      <td>504.5</td>\n      <td>28.0</td>\n      <td>0.0</td>\n      <td>[347]</td>\n      <td>2</td>\n      <td>402.777778</td>\n      <td>504.444444</td>\n      <td>101.736540</td>\n      <td>0</td>\n      <td>1</td>\n    </tr>\n  </tbody>\n</table>\n<p>5414 rows × 15 columns</p>\n</div>"
          },
          "execution_count": 14,
          "metadata": {},
          "output_type": "execute_result"
        }
      ],
      "source": [
        "df_matched"
      ]
    },
    {
      "cell_type": "markdown",
      "metadata": {
        "id": "z4KDSVN-X5eu"
      },
      "source": [
        "## 3. Results  \n",
        "### 3.1 ATE, ATT, ATC"
      ]
    },
    {
      "cell_type": "code",
      "execution_count": null,
      "metadata": {
        "id": "urZK9aBVX5ex",
        "outputId": "d99b3b38-63bf-4798-e97d-d5582f2b5b13"
      },
      "outputs": [
        {
          "data": {
            "text/plain": "     effect_size   std_err  p-val   ci_lower    ci_upper\nATE   100.972968  0.580032    0.0  99.836106  102.109830\nATC   100.963662  0.589903    0.0  99.807452  102.119872\nATT   101.081102  0.693178    0.0  99.722472  102.439732",
            "text/html": "<div>\n<style scoped>\n    .dataframe tbody tr th:only-of-type {\n        vertical-align: middle;\n    }\n\n    .dataframe tbody tr th {\n        vertical-align: top;\n    }\n\n    .dataframe thead th {\n        text-align: right;\n    }\n</style>\n<table border=\"1\" class=\"dataframe\">\n  <thead>\n    <tr style=\"text-align: right;\">\n      <th></th>\n      <th>effect_size</th>\n      <th>std_err</th>\n      <th>p-val</th>\n      <th>ci_lower</th>\n      <th>ci_upper</th>\n    </tr>\n  </thead>\n  <tbody>\n    <tr>\n      <th>ATE</th>\n      <td>100.972968</td>\n      <td>0.580032</td>\n      <td>0.0</td>\n      <td>99.836106</td>\n      <td>102.109830</td>\n    </tr>\n    <tr>\n      <th>ATC</th>\n      <td>100.963662</td>\n      <td>0.589903</td>\n      <td>0.0</td>\n      <td>99.807452</td>\n      <td>102.119872</td>\n    </tr>\n    <tr>\n      <th>ATT</th>\n      <td>101.081102</td>\n      <td>0.693178</td>\n      <td>0.0</td>\n      <td>99.722472</td>\n      <td>102.439732</td>\n    </tr>\n  </tbody>\n</table>\n</div>"
          },
          "execution_count": 15,
          "metadata": {},
          "output_type": "execute_result"
        }
      ],
      "source": [
        "# model.matcher.results\n",
        "results"
      ]
    },
    {
      "cell_type": "markdown",
      "metadata": {
        "id": "0VwfVT_MX5ey"
      },
      "source": [
        "### 3.2 SMD, PSI, KS-test, repeats"
      ]
    },
    {
      "cell_type": "code",
      "execution_count": null,
      "metadata": {
        "id": "yoNzjR5PX5ey",
        "outputId": "370ccf2c-14c7-419e-9b34-b26f102556f8"
      },
      "outputs": [
        {
          "data": {
            "text/plain": "{'psi':         column_treated  anomaly_score_treated check_result_treated  \\\n 0          age_treated                   0.00                   OK   \n 1     industry_treated                   0.00                   OK   \n 2  post_spends_treated                  16.11                  NOK   \n 3   pre_spends_treated                   0.01                   OK   \n \n         column_untreated  anomaly_score_untreated check_result_untreated  \n 0          age_untreated                     0.01                     OK  \n 1     industry_untreated                     0.00                     OK  \n 2  post_spends_untreated                     8.27                    NOK  \n 3   pre_spends_untreated                     0.01                     OK  ,\n 'ks_test':             match_control_to_treat  match_treat_to_control\n age                       1.000000                0.419063\n is_male                   0.320575                0.070995\n pre_spends                1.000000                0.510057,\n 'smd':             match_control_to_treat  match_treat_to_control\n age                       0.004089                0.001075\n is_male                   0.010479                0.040518\n pre_spends                0.002626                0.001597,\n 'repeats': {'match_control_to_treat': 0.93, 'match_treat_to_control': 0.08}}"
          },
          "execution_count": 16,
          "metadata": {},
          "output_type": "execute_result"
        }
      ],
      "source": [
        "# matching quality result - SMD\n",
        "model.quality_result"
      ]
    },
    {
      "cell_type": "code",
      "execution_count": null,
      "metadata": {
        "id": "f55PUVTMX5ey",
        "outputId": "6768469a-b1d1-46e4-a536-5ded16c230cd"
      },
      "outputs": [
        {
          "data": {
            "text/plain": "        column_treated  anomaly_score_treated check_result_treated  \\\n0          age_treated                   0.00                   OK   \n1     industry_treated                   0.00                   OK   \n2  post_spends_treated                  16.11                  NOK   \n3   pre_spends_treated                   0.01                   OK   \n\n        column_untreated  anomaly_score_untreated check_result_untreated  \n0          age_untreated                     0.01                     OK  \n1     industry_untreated                     0.00                     OK  \n2  post_spends_untreated                     8.27                    NOK  \n3   pre_spends_untreated                     0.01                     OK  ",
            "text/html": "<div>\n<style scoped>\n    .dataframe tbody tr th:only-of-type {\n        vertical-align: middle;\n    }\n\n    .dataframe tbody tr th {\n        vertical-align: top;\n    }\n\n    .dataframe thead th {\n        text-align: right;\n    }\n</style>\n<table border=\"1\" class=\"dataframe\">\n  <thead>\n    <tr style=\"text-align: right;\">\n      <th></th>\n      <th>column_treated</th>\n      <th>anomaly_score_treated</th>\n      <th>check_result_treated</th>\n      <th>column_untreated</th>\n      <th>anomaly_score_untreated</th>\n      <th>check_result_untreated</th>\n    </tr>\n  </thead>\n  <tbody>\n    <tr>\n      <th>0</th>\n      <td>age_treated</td>\n      <td>0.00</td>\n      <td>OK</td>\n      <td>age_untreated</td>\n      <td>0.01</td>\n      <td>OK</td>\n    </tr>\n    <tr>\n      <th>1</th>\n      <td>industry_treated</td>\n      <td>0.00</td>\n      <td>OK</td>\n      <td>industry_untreated</td>\n      <td>0.00</td>\n      <td>OK</td>\n    </tr>\n    <tr>\n      <th>2</th>\n      <td>post_spends_treated</td>\n      <td>16.11</td>\n      <td>NOK</td>\n      <td>post_spends_untreated</td>\n      <td>8.27</td>\n      <td>NOK</td>\n    </tr>\n    <tr>\n      <th>3</th>\n      <td>pre_spends_treated</td>\n      <td>0.01</td>\n      <td>OK</td>\n      <td>pre_spends_untreated</td>\n      <td>0.01</td>\n      <td>OK</td>\n    </tr>\n  </tbody>\n</table>\n</div>"
          },
          "execution_count": 17,
          "metadata": {},
          "output_type": "execute_result"
        }
      ],
      "source": [
        "# matching quality result - PSI\n",
        "model.quality_result['psi']"
      ]
    },
    {
      "cell_type": "code",
      "execution_count": null,
      "metadata": {
        "id": "d5eorIC0X5ez",
        "outputId": "02655fff-5c21-497c-cb2a-441189e3b58f"
      },
      "outputs": [
        {
          "data": {
            "text/plain": "            match_control_to_treat  match_treat_to_control\nage                       1.000000                0.419063\nis_male                   0.320575                0.070995\npre_spends                1.000000                0.510057",
            "text/html": "<div>\n<style scoped>\n    .dataframe tbody tr th:only-of-type {\n        vertical-align: middle;\n    }\n\n    .dataframe tbody tr th {\n        vertical-align: top;\n    }\n\n    .dataframe thead th {\n        text-align: right;\n    }\n</style>\n<table border=\"1\" class=\"dataframe\">\n  <thead>\n    <tr style=\"text-align: right;\">\n      <th></th>\n      <th>match_control_to_treat</th>\n      <th>match_treat_to_control</th>\n    </tr>\n  </thead>\n  <tbody>\n    <tr>\n      <th>age</th>\n      <td>1.000000</td>\n      <td>0.419063</td>\n    </tr>\n    <tr>\n      <th>is_male</th>\n      <td>0.320575</td>\n      <td>0.070995</td>\n    </tr>\n    <tr>\n      <th>pre_spends</th>\n      <td>1.000000</td>\n      <td>0.510057</td>\n    </tr>\n  </tbody>\n</table>\n</div>"
          },
          "execution_count": 18,
          "metadata": {},
          "output_type": "execute_result"
        }
      ],
      "source": [
        "# matching quality result - KS-test\n",
        "\n",
        "model.quality_result['ks_test']"
      ]
    },
    {
      "cell_type": "code",
      "execution_count": null,
      "metadata": {
        "id": "4VmQgeV2X5e0",
        "outputId": "b727f5ab-cdbd-404f-fc8d-b6b401c51d24"
      },
      "outputs": [
        {
          "data": {
            "text/plain": "{'match_control_to_treat': 0.93, 'match_treat_to_control': 0.08}"
          },
          "execution_count": 19,
          "metadata": {},
          "output_type": "execute_result"
        }
      ],
      "source": [
        "# matching quality result - repeats\n",
        "model.quality_result['repeats']"
      ]
    },
    {
      "cell_type": "markdown",
      "metadata": {
        "id": "36xwWWE5X5e1"
      },
      "source": [
        "### 3.3 Validation\n",
        "validate result with placebo treatment or random feature or random subset\n",
        "our new effect size is close to zero (it should be)"
      ]
    },
    {
      "cell_type": "code",
      "execution_count": null,
      "metadata": {
        "id": "s9Z8aOOTX5e1",
        "outputId": "1324c457-6012-4746-99c4-0e493e90ef6f",
        "colab": {
          "referenced_widgets": [
            "699b93dfdb404e3aa786d5c56bb829a2"
          ]
        }
      },
      "outputs": [
        {
          "data": {
            "text/plain": "  0%|          | 0/10 [00:00<?, ?it/s]",
            "application/vnd.jupyter.widget-view+json": {
              "version_major": 2,
              "version_minor": 0,
              "model_id": "699b93dfdb404e3aa786d5c56bb829a2"
            }
          },
          "metadata": {},
          "output_type": "display_data"
        },
        {
          "data": {
            "text/plain": "{'post_spends': [100.61184307260706, 0.005630629641012241]}"
          },
          "execution_count": 21,
          "metadata": {},
          "output_type": "execute_result"
        }
      ],
      "source": [
        "model.validate_result()"
      ]
    },
    {
      "cell_type": "code",
      "execution_count": null,
      "metadata": {
        "id": "qiiEeWjUX5e2"
      },
      "outputs": [],
      "source": []
    },
    {
      "cell_type": "code",
      "execution_count": null,
      "metadata": {
        "id": "z7_UpdbnX5e3"
      },
      "outputs": [],
      "source": [
        "model.save(\"test_model.pickle\")"
      ]
    },
    {
      "cell_type": "code",
      "execution_count": null,
      "metadata": {
        "id": "ZV-LCtSTX5e5"
      },
      "outputs": [],
      "source": [
        "model2 = Matcher.load(\"test_model.pickle\")"
      ]
    },
    {
      "cell_type": "code",
      "execution_count": null,
      "metadata": {
        "id": "5Eg1Ki8WX5e7"
      },
      "outputs": [],
      "source": [
        "model2.validate_result()"
      ]
    },
    {
      "cell_type": "code",
      "execution_count": null,
      "metadata": {
        "id": "wqoWKDNeX5e7"
      },
      "outputs": [],
      "source": []
    },
    {
      "cell_type": "code",
      "execution_count": null,
      "metadata": {
        "id": "AQ73c-_GX5e8"
      },
      "outputs": [],
      "source": []
    },
    {
      "cell_type": "code",
      "execution_count": null,
      "metadata": {
        "id": "u5CzRlpHX5e8"
      },
      "outputs": [],
      "source": []
    }
  ],
  "metadata": {
    "kernelspec": {
      "display_name": "Python 3 (ipykernel)",
      "language": "python",
      "name": "python3"
    },
    "language_info": {
      "codemirror_mode": {
        "name": "ipython",
        "version": 3
      },
      "file_extension": ".py",
      "mimetype": "text/x-python",
      "name": "python",
      "nbconvert_exporter": "python",
      "pygments_lexer": "ipython3",
      "version": "3.8.16"
    },
    "colab": {
      "provenance": []
    }
  },
  "nbformat": 4,
  "nbformat_minor": 0
}